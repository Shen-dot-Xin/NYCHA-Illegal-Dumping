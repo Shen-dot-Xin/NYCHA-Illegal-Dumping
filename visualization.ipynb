{
 "cells": [
  {
   "cell_type": "markdown",
   "source": [
    "This notebook fetches data and creates visualization of 311 illegal dumping complaints in the vicinity of NYCHA properties. "
   ],
   "metadata": {}
  },
  {
   "cell_type": "code",
   "execution_count": null,
   "source": [
    "import pandas as pd\n",
    "import numpy as np\n",
    "import folium"
   ],
   "outputs": [],
   "metadata": {}
  },
  {
   "cell_type": "markdown",
   "source": [
    "API_devs = 'https://data.cityofnewyork.us/resource/5j2e-zhmb.csv?'\n",
    "API_311 = 'https://data.cityofnewyork.us/resource/erm2-nwe9.csv?'"
   ],
   "metadata": {}
  },
  {
   "cell_type": "code",
   "execution_count": null,
   "source": [],
   "outputs": [],
   "metadata": {}
  }
 ],
 "metadata": {
  "orig_nbformat": 4,
  "language_info": {
   "name": "python",
   "version": "3.6.8"
  },
  "kernelspec": {
   "name": "python3",
   "display_name": "Python 3.6.8 64-bit ('3.6')"
  },
  "interpreter": {
   "hash": "05ece30799c2dcdac4c13b3af20453da19de8df0d9a1de52cff7e0b6e1e82bdd"
  }
 },
 "nbformat": 4,
 "nbformat_minor": 2
}